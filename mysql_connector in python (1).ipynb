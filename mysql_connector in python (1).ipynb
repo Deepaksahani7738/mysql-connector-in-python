{
 "cells": [
  {
   "cell_type": "code",
   "execution_count": 58,
   "id": "3a44205d",
   "metadata": {},
   "outputs": [
    {
     "name": "stdout",
     "output_type": "stream",
     "text": [
      "database created\n"
     ]
    }
   ],
   "source": [
    "import mysql.connector\n",
    "\n",
    "mydata=mysql.connector.connect(host=\"localhost\",user=\"root\",password=\"Deepak7738\")\n",
    "data=mydata.cursor()\n",
    "    \n",
    "try:\n",
    "    d=\"create database assignment\"\n",
    "    data.execute(d)\n",
    "    print(\"database created\")\n",
    "    \n",
    "except Exception as d:\n",
    "    d=\"connection failed\"\n",
    "    print(d)"
   ]
  },
  {
   "cell_type": "code",
   "execution_count": 59,
   "id": "06ff72cb",
   "metadata": {},
   "outputs": [
    {
     "name": "stdout",
     "output_type": "stream",
     "text": [
      "table created successful\n",
      "this is valid data\n"
     ]
    }
   ],
   "source": [
    "import mysql.connector\n",
    "\n",
    "data=mysql.connector.connect(host=\"localhost\",user=\"root\",password=\"Deepak7738\",database=\"assignment\")\n",
    "data_info=data.cursor()\n",
    "try:\n",
    "    \n",
    "    create_table='''create table employee\n",
    "    (EmpID int not null auto_increment,EmpFirstName varchar(150) not null,\n",
    "    EmplastName varchar(120) not null, EmpSalary int(20) not null,\n",
    "    EmpDesignation varchar(150) not null,EmpJoiningDate date not null,\n",
    "    primary key(EmpID))'''\n",
    "    data_info.execute(create_table)\n",
    "     \n",
    "    print(\"table created successful\")\n",
    "except Exception as A:\n",
    "    A=\"this is not valid data\"\n",
    "    print(A)\n",
    "finally:\n",
    "    print(\"this is valid data\")"
   ]
  },
  {
   "cell_type": "code",
   "execution_count": 60,
   "id": "6c2ea9b0",
   "metadata": {},
   "outputs": [
    {
     "name": "stdout",
     "output_type": "stream",
     "text": [
      "successful\n"
     ]
    }
   ],
   "source": [
    "import mysql.connector\n",
    "\n",
    "try:\n",
    "    \n",
    "    connection=mysql.connector.connect(host=\"localhost\",user=\"root\",password=\"Deepak7738\",database=\"assignment\")\n",
    "    if connection.is_connected():\n",
    "        mycursor=connection.cursor()\n",
    "        insert_query=\"\"\"insert into employee(EmpID,EmpFirstName,EmplastName,EmpSalary,EmpDesignation,EmpJoiningDate) values (%s,%s,%s,%s,%s,%s)\"\"\"                                    \n",
    "        \n",
    "        records=[(3,\"priya\",\"yadav\",8000,\"front end developer\",\"2020-12-13\"),\n",
    "        (4,\"nita\",\"raj\",9000,\"python developer\",\"2019-12-13\"),\n",
    "        (5,\"raj\",\"soni\",10000,\"java developer\",\"2018-11-14\"),\n",
    "        (6,\"lalita\",\"chauhan\",11000,\"mearn developer\",\"2011-12-15\"),\n",
    "        (7,\"xyz\",\"rajesh\",13000,\" software developer\",\"2012-11-16\"),\n",
    "        (8,\"naina\",\"raj\",14000,\" data science \",\"2013-12-17\"),\n",
    "        (9,\"sonita\",\"pushpa\",15000,\" software designer \",\"2014-09-18\"),\n",
    "        (10,\"payal\",\"trisha\",16000,\"  designer \",\"2015-10-19\"),\n",
    "        (11,\"suman\",\"chandani\",16000,\" html and css designer \",\"2016-11-18\"),\n",
    "        (12,\"prithavi\",\"raj\",17000,\"cloud designer \",\"2017-11-18\"),\n",
    "        (13,\"nitara\",\"steve\",18000,\" software developer and python  \",\"2018-11-18\"),\n",
    "        (14,\"akshay\",\"lal\",19000,\" software and python developer  \",\"2019-11-18\"),\n",
    "        (15,\"trishana\",\"vibha\",21000,\" full stack developer  \",\"2023-01-11\")]\n",
    "        mycursor.executemany(insert_query,records)\n",
    "        connection.commit()\n",
    "        print(\"successful\")\n",
    "except Exception as e:\n",
    "    e=\"connection failed\"\n",
    "    print(e)"
   ]
  },
  {
   "cell_type": "code",
   "execution_count": 61,
   "id": "101a3349",
   "metadata": {},
   "outputs": [
    {
     "name": "stdout",
     "output_type": "stream",
     "text": [
      "5 records update successful\n"
     ]
    }
   ],
   "source": [
    "import mysql.connector\n",
    "\n",
    "try:\n",
    "    connection=mysql.connector.connect(host=\"localhost\",user=\"root\",password=\"Deepak7738\",database=\"assignment\")\n",
    "    if connection.is_connected():\n",
    "        data=connection.cursor()\n",
    "        \n",
    "        update_query=\"\"\"update employee set EmpSalary=%s where EmpID=%s\"\"\"\n",
    "        records=[(8000,5),(14000,6),(18000,7),(19000,8),(11000,9)]\n",
    "        \n",
    "        data.executemany(update_query,records)\n",
    "        connection.commit()\n",
    "        print(f'{data.rowcount} records update successful')\n",
    "except Exception as d:\n",
    "    d=\"syntax error..\"\n",
    "    print(d)"
   ]
  },
  {
   "cell_type": "code",
   "execution_count": 2,
   "id": "ce1c9cbd",
   "metadata": {},
   "outputs": [
    {
     "name": "stdout",
     "output_type": "stream",
     "text": [
      "insert data successful\n"
     ]
    }
   ],
   "source": [
    "import mysql.connector as data\n",
    "connection=data.connect(host=\"localhost\",user=\"root\",password=\"Deepak7738\",database=\"assignment\")\n",
    "try:\n",
    "    mydata=connection.cursor()\n",
    "    insert_query=\"\"\"insert into employee(EmpID,EmpFirstName,EmplastName,EmpSalary,EmpDesignation,EmpJoiningDate) values (%s,%s,%s,%s,%s,%s)\"\"\"\n",
    "    records=[(16,\"raghav\",\"shree\",16000,\"java and python developer\",\"2012-05-14\")]\n",
    "    mydata.executemany(insert_query,records)\n",
    "    connection.commit()\n",
    "    print(\"insert data successful\")\n",
    "except Exception as d:\n",
    "    d=\"failed connection\"\n",
    "    print(d)"
   ]
  },
  {
   "cell_type": "code",
   "execution_count": 3,
   "id": "420333ed",
   "metadata": {},
   "outputs": [
    {
     "name": "stdout",
     "output_type": "stream",
     "text": [
      "delete data successful\n"
     ]
    }
   ],
   "source": [
    "import mysql.connector as mysql\n",
    "try:\n",
    "    connect=mysql.connect(host=\"localhost\",user=\"root\",password=\"Deepak7738\",database=\"assignment\")\n",
    "    data=connect.cursor()\n",
    "    delete_data=\"delete from employee where EmpID=16\"\n",
    "    data.execute(delete_data)\n",
    "    connect.commit()\n",
    "    print(\"delete data successful\")\n",
    "except Exception as h:\n",
    "    h=\"syntax Error..\"\n",
    "    print(h)"
   ]
  },
  {
   "cell_type": "code",
   "execution_count": 9,
   "id": "4cd05274",
   "metadata": {},
   "outputs": [
    {
     "name": "stdout",
     "output_type": "stream",
     "text": [
      "alter data successful\n"
     ]
    }
   ],
   "source": [
    "import mysql.connector as mydata\n",
    "try:\n",
    "    connect=mydata.connect(host=\"localhost\",user=\"root\",password=\"Deepak7738\",database=\"assignment\")\n",
    "    mydata=connect.cursor()\n",
    "    alter_data=\"alter table employee add DateOfBirth date\"\n",
    "    mydata.execute(alter_data)\n",
    "    print(\"alter data successful\")\n",
    "except Exception as e:\n",
    "    e=\"syntax Error..\"\n",
    "    print(e)"
   ]
  },
  {
   "cell_type": "code",
   "execution_count": 10,
   "id": "0fbe1d46",
   "metadata": {},
   "outputs": [
    {
     "name": "stdout",
     "output_type": "stream",
     "text": [
      "(3, 'priya', 'yadav', 8000, 'front end developer', datetime.date(2020, 12, 13), None)\n",
      "(4, 'nita', 'raj', 9000, 'python developer', datetime.date(2019, 12, 13), None)\n",
      "(5, 'raj', 'soni', 8000, 'java developer', datetime.date(2018, 11, 14), None)\n",
      "(6, 'lalita', 'chauhan', 14000, 'mearn developer', datetime.date(2011, 12, 15), None)\n",
      "(7, 'xyz', 'rajesh', 18000, ' software developer', datetime.date(2012, 11, 16), None)\n",
      "(8, 'naina', 'raj', 19000, ' data science ', datetime.date(2013, 12, 17), None)\n",
      "(9, 'sonita', 'pushpa', 11000, ' software designer ', datetime.date(2014, 9, 18), None)\n",
      "(10, 'payal', 'trisha', 16000, '  designer ', datetime.date(2015, 10, 19), None)\n",
      "(11, 'suman', 'chandani', 16000, ' html and css designer ', datetime.date(2016, 11, 18), None)\n",
      "(12, 'prithavi', 'raj', 17000, 'cloud designer ', datetime.date(2017, 11, 18), None)\n",
      "(13, 'nitara', 'steve', 18000, ' software developer and python  ', datetime.date(2018, 11, 18), None)\n",
      "(14, 'akshay', 'lal', 19000, ' software and python developer  ', datetime.date(2019, 11, 18), None)\n",
      "(15, 'trishana', 'vibha', 21000, ' full stack developer  ', datetime.date(2023, 1, 11), None)\n"
     ]
    }
   ],
   "source": [
    "import mysql.connector as mydata\n",
    "try:\n",
    "    connect=mydata.connect(host=\"localhost\",user=\"root\",password=\"Deepak7738\",database=\"assignment\")\n",
    "    data=connect.cursor()\n",
    "    display_data=\"\"\"select * from employee\"\"\"\n",
    "    data.execute(display_data)\n",
    "    for x in data:\n",
    "        print(x)\n",
    "except Exception as p:\n",
    "    p=\"syntax Error..\"\n",
    "    print(p)"
   ]
  },
  {
   "cell_type": "code",
   "execution_count": 11,
   "id": "686db2f9",
   "metadata": {},
   "outputs": [
    {
     "name": "stdout",
     "output_type": "stream",
     "text": [
      "Drop column successful\n"
     ]
    }
   ],
   "source": [
    "import mysql.connector as mydata\n",
    "try:\n",
    "    connect=mydata.connect(host=\"localhost\",user=\"root\",password=\"Deepak7738\",database=\"assignment\")\n",
    "    data=connect.cursor()\n",
    "    drop_column=\"\"\"alter table employee drop column DateOfBirth\"\"\"\n",
    "    data.execute(drop_column)\n",
    "    connect.commit()\n",
    "    print(\"Drop column successful\")\n",
    "except Exception as d:\n",
    "    d=\"syntax Error\"\n",
    "    print(d)"
   ]
  },
  {
   "cell_type": "code",
   "execution_count": 12,
   "id": "47ae805c",
   "metadata": {},
   "outputs": [
    {
     "name": "stdout",
     "output_type": "stream",
     "text": [
      "(3, 'priya', 'yadav', 8000, 'front end developer', datetime.date(2020, 12, 13))\n",
      "(4, 'nita', 'raj', 9000, 'python developer', datetime.date(2019, 12, 13))\n",
      "(5, 'raj', 'soni', 8000, 'java developer', datetime.date(2018, 11, 14))\n",
      "(6, 'lalita', 'chauhan', 14000, 'mearn developer', datetime.date(2011, 12, 15))\n",
      "(7, 'xyz', 'rajesh', 18000, ' software developer', datetime.date(2012, 11, 16))\n",
      "(8, 'naina', 'raj', 19000, ' data science ', datetime.date(2013, 12, 17))\n",
      "(9, 'sonita', 'pushpa', 11000, ' software designer ', datetime.date(2014, 9, 18))\n",
      "(10, 'payal', 'trisha', 16000, '  designer ', datetime.date(2015, 10, 19))\n",
      "(11, 'suman', 'chandani', 16000, ' html and css designer ', datetime.date(2016, 11, 18))\n",
      "(12, 'prithavi', 'raj', 17000, 'cloud designer ', datetime.date(2017, 11, 18))\n",
      "(13, 'nitara', 'steve', 18000, ' software developer and python  ', datetime.date(2018, 11, 18))\n",
      "(14, 'akshay', 'lal', 19000, ' software and python developer  ', datetime.date(2019, 11, 18))\n",
      "(15, 'trishana', 'vibha', 21000, ' full stack developer  ', datetime.date(2023, 1, 11))\n"
     ]
    }
   ],
   "source": [
    "import mysql.connector as mydata\n",
    "try:\n",
    "    connect=mydata.connect(host=\"localhost\",user=\"root\",password=\"Deepak7738\",database=\"assignment\")\n",
    "    data=connect.cursor()\n",
    "    display_data=\"\"\"select * from employee\"\"\"\n",
    "    data.execute(display_data)\n",
    "    for x in data:\n",
    "        print(x)\n",
    "except Exception as p:\n",
    "    p=\"syntax Error..\"\n",
    "    print(p)"
   ]
  },
  {
   "cell_type": "code",
   "execution_count": 13,
   "id": "f5184ffd",
   "metadata": {},
   "outputs": [
    {
     "name": "stdout",
     "output_type": "stream",
     "text": [
      "('EmpID', b'int', 'NO', 'PRI', None, 'auto_increment')\n",
      "('EmpFirstName', b'varchar(150)', 'NO', '', None, '')\n",
      "('EmplastName', b'varchar(120)', 'NO', '', None, '')\n",
      "('EmpSalary', b'int', 'NO', '', None, '')\n",
      "('EmpDesignation', b'varchar(150)', 'NO', '', None, '')\n",
      "('EmpJoiningDate', b'date', 'NO', '', None, '')\n"
     ]
    }
   ],
   "source": [
    "import mysql.connector as mydata\n",
    "try:\n",
    "    connect=mydata.connect(host=\"localhost\",user=\"root\",password=\"Deepak7738\",database=\"assignment\")\n",
    "    data=connect.cursor()\n",
    "    display_data=\"\"\"DESCRIBE employee\"\"\"\n",
    "    data.execute(display_data)\n",
    "    for x in data:\n",
    "        print(x)\n",
    "except Exception as p:\n",
    "    p=\"syntax Error..\"\n",
    "    print(p)"
   ]
  },
  {
   "cell_type": "code",
   "execution_count": 1,
   "id": "99204d96",
   "metadata": {},
   "outputs": [
    {
     "name": "stdout",
     "output_type": "stream",
     "text": [
      "Rename Column successful\n"
     ]
    }
   ],
   "source": [
    "import mysql.connector as mydata\n",
    "try:\n",
    "    connect=mydata.connect(host=\"localhost\",user=\"root\",password=\"Deepak7738\",database=\"assignment\")\n",
    "    conn=connect.cursor()\n",
    "    alt_data=\"\"\"alter table employee rename column EmpID to empid\"\"\"\n",
    "    conn.execute(alt_data)\n",
    "    connect.commit()\n",
    "    print(\"Rename Column successful\")\n",
    "except Exception as data:\n",
    "    data=\"syntax Error..\"\n",
    "    print(data)"
   ]
  },
  {
   "cell_type": "code",
   "execution_count": 2,
   "id": "daf00ae3",
   "metadata": {},
   "outputs": [
    {
     "name": "stdout",
     "output_type": "stream",
     "text": [
      "Add Column successful\n",
      "succesful Query\n"
     ]
    }
   ],
   "source": [
    "import mysql.connector as mydata\n",
    "try:\n",
    "    connect=mydata.connect(host=\"localhost\",user=\"root\",password=\"Deepak7738\",database=\"assignment\")\n",
    "    conn=connect.cursor()\n",
    "    alt_data=\"\"\"alter table employee add Mobile_No int not null\"\"\"\n",
    "    conn.execute(alt_data)\n",
    "    connect.commit()\n",
    "    print(\"Add Column successful\")\n",
    "except Exception as data:\n",
    "    data=\"connection Error..\"\n",
    "    print(data)\n",
    "finally:\n",
    "    print(\"succesful Query\")"
   ]
  },
  {
   "cell_type": "code",
   "execution_count": 3,
   "id": "5e0460e2",
   "metadata": {},
   "outputs": [
    {
     "name": "stdout",
     "output_type": "stream",
     "text": [
      "Update Query successful\n"
     ]
    }
   ],
   "source": [
    "import mysql.connector as mydata\n",
    "try:\n",
    "    connect=mydata.connect(host=\"localhost\",user=\"root\",password=\"Deepak7738\",database=\"assignment\")\n",
    "    conn=connect.cursor()\n",
    "    alt_data=\"\"\"update employee set Mobile_No=44775588 where empid=3\"\"\"\n",
    "    conn.execute(alt_data)\n",
    "    connect.commit()\n",
    "    print(\"Update Query successful\")\n",
    "except Exception as data:\n",
    "    data=\"syntax Error..\"\n",
    "    print(data)"
   ]
  },
  {
   "cell_type": "code",
   "execution_count": 14,
   "id": "cf7e0946",
   "metadata": {},
   "outputs": [
    {
     "name": "stdout",
     "output_type": "stream",
     "text": [
      "display data successful\n",
      "(3, 'priya', 'yadav', 8000, 'front end developer', datetime.date(2020, 12, 13), 44775588)\n"
     ]
    }
   ],
   "source": [
    "import mysql.connector as mydata\n",
    "try:\n",
    "    connect=mydata.connect(host=\"localhost\",user=\"root\",password=\"Deepak7738\",database=\"assignment\")\n",
    "    data=connect.cursor()\n",
    "    display_data=\"\"\"select * from employee where empid=3\"\"\"\n",
    "    data.execute(display_data)\n",
    "    print(\"display data successful\")\n",
    "    for x in data:\n",
    "        print(x)\n",
    "except Exception as p:\n",
    "    p=\"syntax Error..\"\n",
    "    print(p)"
   ]
  },
  {
   "cell_type": "code",
   "execution_count": 16,
   "id": "624fac23",
   "metadata": {},
   "outputs": [
    {
     "name": "stdout",
     "output_type": "stream",
     "text": [
      "display data successful\n",
      "(3, 'priya', 'yadav', 8000, 'front end developer', datetime.date(2020, 12, 13), 44775588)\n",
      "(5, 'raj', 'soni', 8000, 'java developer', datetime.date(2018, 11, 14), 0)\n",
      "(4, 'nita', 'raj', 9000, 'python developer', datetime.date(2019, 12, 13), 0)\n",
      "(9, 'sonita', 'pushpa', 11000, ' software designer ', datetime.date(2014, 9, 18), 0)\n",
      "(6, 'lalita', 'chauhan', 14000, 'mearn developer', datetime.date(2011, 12, 15), 0)\n",
      "(10, 'payal', 'trisha', 16000, '  designer ', datetime.date(2015, 10, 19), 0)\n",
      "(11, 'suman', 'chandani', 16000, ' html and css designer ', datetime.date(2016, 11, 18), 0)\n",
      "(12, 'prithavi', 'raj', 17000, 'cloud designer ', datetime.date(2017, 11, 18), 0)\n",
      "(7, 'xyz', 'rajesh', 18000, ' software developer', datetime.date(2012, 11, 16), 0)\n",
      "(13, 'nitara', 'steve', 18000, ' software developer and python  ', datetime.date(2018, 11, 18), 0)\n",
      "(8, 'naina', 'raj', 19000, ' data science ', datetime.date(2013, 12, 17), 0)\n",
      "(14, 'akshay', 'lal', 19000, ' software and python developer  ', datetime.date(2019, 11, 18), 0)\n",
      "(15, 'trishana', 'vibha', 21000, ' full stack developer  ', datetime.date(2023, 1, 11), 0)\n"
     ]
    }
   ],
   "source": [
    "import mysql.connector as mydata\n",
    "try:\n",
    "    connect=mydata.connect(host=\"localhost\",user=\"root\",password=\"Deepak7738\",database=\"assignment\")\n",
    "    data=connect.cursor()\n",
    "    display_data=\"\"\"select * from employee order by EmpSalary asc\"\"\"\n",
    "    data.execute(display_data)\n",
    "    print(\"display data successful\")\n",
    "    for x in data:\n",
    "        print(x)\n",
    "except Exception as p:\n",
    "    p=\"syntax Error..\"\n",
    "    print(p)"
   ]
  },
  {
   "cell_type": "code",
   "execution_count": 8,
   "id": "52f019d8",
   "metadata": {},
   "outputs": [
    {
     "name": "stdout",
     "output_type": "stream",
     "text": [
      "Show Databases Successful\n",
      "('assignment',)\n",
      "('deepak',)\n",
      "('information_schema',)\n",
      "('mysql',)\n",
      "('performance_schema',)\n",
      "('project',)\n",
      "('session',)\n",
      "('students',)\n",
      "('sys',)\n"
     ]
    }
   ],
   "source": [
    "import mysql.connector as mysql\n",
    "try:\n",
    "    data=mysql.connect(host=\"localhost\",user=\"root\",password=\"Deepak7738\")\n",
    "    mydata=data.cursor()\n",
    "    show_data=\"\"\"show databases\"\"\"\n",
    "    mydata.execute(show_data)\n",
    "    print(\"Show Databases Successful\")\n",
    "    for x in mydata:\n",
    "        print(x)\n",
    "except Exception as e:\n",
    "    e=\"syntax Error\"\n",
    "    print(e)"
   ]
  },
  {
   "cell_type": "code",
   "execution_count": 12,
   "id": "df5c18e5",
   "metadata": {},
   "outputs": [
    {
     "name": "stdout",
     "output_type": "stream",
     "text": [
      "Show tables Successful\n",
      "('doctors',)\n",
      "('employees',)\n",
      "('patients',)\n",
      "('products',)\n"
     ]
    }
   ],
   "source": [
    "import mysql.connector as mysql\n",
    "try:\n",
    "    data=mysql.connect(host=\"localhost\",user=\"root\",password=\"Deepak7738\",database=\"project\")\n",
    "    mydata=data.cursor()\n",
    "    show_data=\"\"\"show tables\"\"\"\n",
    "    mydata.execute(show_data)\n",
    "    print(\"Show tables Successful\")\n",
    "    for x in mydata:\n",
    "        print(x)\n",
    "except Exception as e:\n",
    "    e=\"Error..\"\n",
    "    print(e)"
   ]
  },
  {
   "cell_type": "code",
   "execution_count": 19,
   "id": "1ce2ed1d",
   "metadata": {},
   "outputs": [
    {
     "name": "stdout",
     "output_type": "stream",
     "text": [
      "Show data Successful\n",
      "(3, 'priya', 'arora', 'bandra', datetime.date(2020, 7, 15), 24000)\n",
      "(4, 'pooja', 'bajaj', 'malad', datetime.date(2019, 8, 16), 27000)\n",
      "(8, 'jack', 'george', 'churchgate', datetime.date(2021, 4, 15), 35000)\n"
     ]
    }
   ],
   "source": [
    "import mysql.connector as mysql\n",
    "try:\n",
    "    data=mysql.connect(host=\"localhost\",user=\"root\",password=\"Deepak7738\",database=\"project\")\n",
    "    mydata=data.cursor()\n",
    "    show_data=\"\"\"select * from employees where id=3 or id=4 or id=8\"\"\"\n",
    "    mydata.execute(show_data)\n",
    "    print(\"Show data Successful\")\n",
    "    for x in mydata:\n",
    "        print(x)\n",
    "except Exception as e:\n",
    "    e=\"Error..\"\n",
    "    print(e)"
   ]
  },
  {
   "cell_type": "code",
   "execution_count": 31,
   "id": "6309ccd9",
   "metadata": {},
   "outputs": [
    {
     "name": "stdout",
     "output_type": "stream",
     "text": [
      "Query Successful\n",
      "(8, 'jack', 'george', 'churchgate', datetime.date(2021, 4, 15), 35000)\n",
      "(4, 'pooja', 'bajaj', 'malad', datetime.date(2019, 8, 16), 27000)\n",
      "Query Executed Successful\n"
     ]
    }
   ],
   "source": [
    "import mysql.connector as mysql\n",
    "try:\n",
    "    data=mysql.connect(host=\"localhost\",user=\"root\",password=\"Deepak7738\",database=\"project\")\n",
    "    mydata=data.cursor()\n",
    "    show_data=\"\"\"select * from employees where id=4 or id=8 order by address asc \"\"\"\n",
    "    mydata.execute(show_data)\n",
    "    print(\"Query Successful\")\n",
    "    for x in mydata:\n",
    "        print(x)\n",
    "except Exception as e:\n",
    "    e=\"syntax Error..\"\n",
    "    print(e)\n",
    "finally:\n",
    "    print(\"Query Executed Successful\")"
   ]
  },
  {
   "cell_type": "code",
   "execution_count": 2,
   "id": "685e27a5",
   "metadata": {},
   "outputs": [
    {
     "name": "stdout",
     "output_type": "stream",
     "text": [
      "Query Successful\n",
      "('id', b'int', 'NO', 'PRI', None, 'auto_increment')\n",
      "('name', b'varchar(100)', 'NO', 'UNI', None, '')\n",
      "('lastname', b'varchar(100)', 'NO', '', None, '')\n",
      "('address', b'varchar(100)', 'NO', '', None, '')\n",
      "('date_of_birth', b'date', 'NO', '', None, '')\n",
      "('salary', b'int', 'NO', '', None, '')\n",
      "Query Executed Successful\n"
     ]
    }
   ],
   "source": [
    "import mysql.connector as mysql\n",
    "try:\n",
    "    data=mysql.connect(host=\"localhost\",user=\"root\",password=\"Deepak7738\",database=\"project\")\n",
    "    mydata=data.cursor()\n",
    "    show_data=\"\"\"describe employees \"\"\"\n",
    "    mydata.execute(show_data)\n",
    "    print(\"Query Successful\")\n",
    "    for x in mydata:\n",
    "        print(x)\n",
    "except Exception as e:\n",
    "    e=\"syntax Error..\"\n",
    "    print(e)\n",
    "finally:\n",
    "    print(\"Query Executed Successful\")"
   ]
  },
  {
   "cell_type": "code",
   "execution_count": 3,
   "id": "e3f10134",
   "metadata": {},
   "outputs": [
    {
     "name": "stdout",
     "output_type": "stream",
     "text": [
      "Query Successful\n",
      "(1, 'laxman', 'sharma')\n",
      "(2, 'amit', 'agrawal')\n",
      "(3, 'priya', 'arora')\n",
      "(4, 'pooja', 'bajaj')\n",
      "(5, 'kishan', 'malhotra')\n",
      "(6, 'aryan', 'singh')\n",
      "(7, 'steve', 'wilson')\n",
      "(8, 'jack', 'george')\n",
      "(9, 'harry', 'Aaron')\n",
      "Query Executed Successful\n"
     ]
    }
   ],
   "source": [
    "import mysql.connector as mysql\n",
    "try:\n",
    "    data=mysql.connect(host=\"localhost\",user=\"root\",password=\"Deepak7738\",database=\"project\")\n",
    "    mydata=data.cursor()\n",
    "    show_data=\"\"\"select id,name,lastname from employees \"\"\"\n",
    "    mydata.execute(show_data)\n",
    "    print(\"Query Successful\")\n",
    "    for x in mydata:\n",
    "        print(x)\n",
    "except Exception as e:\n",
    "    e=\"syntax Error..\"\n",
    "    print(e)\n",
    "finally:\n",
    "    print(\"Query Executed Successful\")"
   ]
  },
  {
   "cell_type": "code",
   "execution_count": 5,
   "id": "7b1acdad",
   "metadata": {},
   "outputs": [
    {
     "name": "stdout",
     "output_type": "stream",
     "text": [
      "Query Successful\n",
      "Query Executed Successful\n"
     ]
    }
   ],
   "source": [
    "import mysql.connector as mysql\n",
    "try:\n",
    "    data=mysql.connect(host=\"localhost\",user=\"root\",password=\"Deepak7738\",database=\"project\")\n",
    "    mydata=data.cursor()\n",
    "    show_data=\"\"\"create table view as select * from employees \"\"\"\n",
    "    mydata.execute(show_data)\n",
    "    print(\"Query Successful\")\n",
    "    for x in mydata:\n",
    "        print(x)\n",
    "except Exception as e:\n",
    "    e=\"syntax Error..\"\n",
    "    print(e)\n",
    "finally:\n",
    "    print(\"Query Executed Successful\")"
   ]
  },
  {
   "cell_type": "code",
   "execution_count": 6,
   "id": "a64b2c77",
   "metadata": {},
   "outputs": [
    {
     "name": "stdout",
     "output_type": "stream",
     "text": [
      "Query Successful\n",
      "(1, 'laxman', 'sharma', 'andheri', datetime.date(2022, 4, 12), 20000)\n",
      "(2, 'amit', 'agrawal', 'kandivali', datetime.date(2021, 5, 11), 25000)\n",
      "(3, 'priya', 'arora', 'bandra', datetime.date(2020, 7, 15), 24000)\n",
      "(4, 'pooja', 'bajaj', 'malad', datetime.date(2019, 8, 16), 27000)\n",
      "(5, 'kishan', 'malhotra', 'goregaon', datetime.date(2021, 9, 17), 28000)\n",
      "(6, 'aryan', 'singh', 'jogeshwari', datetime.date(2022, 5, 13), 29000)\n",
      "(7, 'steve', 'wilson', 'andheri', datetime.date(2020, 6, 14), 30000)\n",
      "(8, 'jack', 'george', 'churchgate', datetime.date(2021, 4, 15), 35000)\n",
      "(9, 'harry', 'Aaron', 'virar', datetime.date(2022, 6, 12), 45000)\n",
      "Query Executed Successful\n"
     ]
    }
   ],
   "source": [
    "import mysql.connector as mysql\n",
    "try:\n",
    "    data=mysql.connect(host=\"localhost\",user=\"root\",password=\"Deepak7738\",database=\"project\")\n",
    "    mydata=data.cursor()\n",
    "    show_data=\"\"\" select * from view \"\"\"\n",
    "    mydata.execute(show_data)\n",
    "    print(\"Query Successful\")\n",
    "    for x in mydata:\n",
    "        print(x)\n",
    "except Exception as e:\n",
    "    e=\"syntax Error..\"\n",
    "    print(e)\n",
    "finally:\n",
    "    print(\"Query Executed Successful\")"
   ]
  },
  {
   "cell_type": "code",
   "execution_count": 11,
   "id": "f70291ae",
   "metadata": {},
   "outputs": [
    {
     "name": "stdout",
     "output_type": "stream",
     "text": [
      "Query Successful\n",
      "('id', b'int', 'NO', '', b'0', '')\n",
      "('name', b'varchar(100)', 'NO', '', None, '')\n",
      "('lastname', b'varchar(100)', 'NO', '', None, '')\n",
      "('address', b'varchar(100)', 'NO', '', None, '')\n",
      "('date_of_birth', b'date', 'NO', '', None, '')\n",
      "('salary', b'int', 'NO', '', None, '')\n",
      "Query Executed Successful\n"
     ]
    }
   ],
   "source": [
    "import mysql.connector as mysql\n",
    "try:\n",
    "    data=mysql.connect(host=\"localhost\",user=\"root\",password=\"Deepak7738\",database=\"project\")\n",
    "    mydata=data.cursor()\n",
    "    show_data=\"\"\" describe view \"\"\"\n",
    "    mydata.execute(show_data)\n",
    "    print(\"Query Successful\")\n",
    "    for x in mydata:\n",
    "        print(x)\n",
    "except Exception as e:\n",
    "    e=\"syntax Error..\"\n",
    "    print(e)\n",
    "finally:\n",
    "    print(\"Query Executed Successful\")"
   ]
  },
  {
   "cell_type": "code",
   "execution_count": 12,
   "id": "ef118c64",
   "metadata": {},
   "outputs": [
    {
     "name": "stdout",
     "output_type": "stream",
     "text": [
      "Query Successful\n",
      "Query Executed Successful\n"
     ]
    }
   ],
   "source": [
    "import mysql.connector as mysql\n",
    "try:\n",
    "    data=mysql.connect(host=\"localhost\",user=\"root\",password=\"Deepak7738\",database=\"project\")\n",
    "    mydata=data.cursor()\n",
    "    show_data=\"\"\" truncate table view \"\"\"\n",
    "    mydata.execute(show_data)\n",
    "    print(\"Query Successful\")\n",
    "    for x in mydata:\n",
    "        print(x)\n",
    "except Exception as e:\n",
    "    e=\"syntax Error..\"\n",
    "    print(e)\n",
    "finally:\n",
    "    print(\"Query Executed Successful\")"
   ]
  },
  {
   "cell_type": "code",
   "execution_count": 14,
   "id": "855743b4",
   "metadata": {},
   "outputs": [
    {
     "name": "stdout",
     "output_type": "stream",
     "text": [
      "Query Successful\n",
      "(1, 'laxman', 'sharma', 'andheri', datetime.date(2022, 4, 12), 20000)\n",
      "(2, 'amit', 'agrawal', 'kandivali', datetime.date(2021, 5, 11), 25000)\n",
      "(3, 'priya', 'arora', 'bandra', datetime.date(2020, 7, 15), 24000)\n",
      "(4, 'pooja', 'bajaj', 'malad', datetime.date(2019, 8, 16), 27000)\n",
      "(5, 'kishan', 'malhotra', 'goregaon', datetime.date(2021, 9, 17), 28000)\n",
      "(6, 'aryan', 'singh', 'jogeshwari', datetime.date(2022, 5, 13), 29000)\n",
      "(7, 'steve', 'wilson', 'andheri', datetime.date(2020, 6, 14), 30000)\n",
      "(8, 'jack', 'george', 'churchgate', datetime.date(2021, 4, 15), 35000)\n",
      "(9, 'harry', 'Aaron', 'virar', datetime.date(2022, 6, 12), 45000)\n",
      "Query Executed Successful\n"
     ]
    }
   ],
   "source": [
    "import mysql.connector as mysql\n",
    "try:\n",
    "    data=mysql.connect(host=\"localhost\",user=\"root\",password=\"Deepak7738\",database=\"project\")\n",
    "    mydata=data.cursor()\n",
    "    show_data=\"\"\" select * from employees \"\"\"\n",
    "    mydata.execute(show_data)\n",
    "    print(\"Query Successful\")\n",
    "    for x in mydata:\n",
    "        print(x)\n",
    "except Exception as e:\n",
    "    e=\"syntax Error..\"\n",
    "    print(e)\n",
    "finally:\n",
    "    print(\"Query Executed Successful\")"
   ]
  },
  {
   "cell_type": "code",
   "execution_count": null,
   "id": "1739614f",
   "metadata": {},
   "outputs": [],
   "source": []
  }
 ],
 "metadata": {
  "kernelspec": {
   "display_name": "Python 3 (ipykernel)",
   "language": "python",
   "name": "python3"
  },
  "language_info": {
   "codemirror_mode": {
    "name": "ipython",
    "version": 3
   },
   "file_extension": ".py",
   "mimetype": "text/x-python",
   "name": "python",
   "nbconvert_exporter": "python",
   "pygments_lexer": "ipython3",
   "version": "3.11.0"
  }
 },
 "nbformat": 4,
 "nbformat_minor": 5
}
